{
 "cells": [
  {
   "cell_type": "markdown",
   "id": "33297a41",
   "metadata": {},
   "source": [
    "\n",
    "# HIT140 — Bats vs Rats: Full Analysis Notebook\n",
    "\n"
   ]
  },
  {
   "cell_type": "code",
   "execution_count": 93,
   "id": "eaa1e5ff",
   "metadata": {},
   "outputs": [],
   "source": [
    "import pandas as pd\n",
    "import numpy as np\n",
    "import matplotlib.pyplot as plt\n",
    "\n",
    "from pathlib import Path\n",
    "from scipy.stats import chi2_contingency, mannwhitneyu, kruskal, ttest_ind\n",
    "import statsmodels.api as sm\n",
    "import statsmodels.formula.api as smf\n",
    "\n",
    "DATA_DIR = Path(\"datasets\")\n",
    "D1_PATH = DATA_DIR / \"dataset1.csv\"\n",
    "D2_PATH = DATA_DIR / \"dataset2.csv\"\n"
   ]
  },
  {
   "cell_type": "markdown",
   "id": "59c25f83",
   "metadata": {},
   "source": [
    "## Step 0 — Load data"
   ]
  },
  {
   "cell_type": "code",
   "execution_count": 65,
   "id": "a9d6ae59",
   "metadata": {},
   "outputs": [
    {
     "name": "stdout",
     "output_type": "stream",
     "text": [
      "Dataset1 shape: (907, 12)\n",
      "Dataset2 shape: (2123, 7)\n"
     ]
    },
    {
     "data": {
      "text/html": [
       "<div>\n",
       "<style scoped>\n",
       "    .dataframe tbody tr th:only-of-type {\n",
       "        vertical-align: middle;\n",
       "    }\n",
       "\n",
       "    .dataframe tbody tr th {\n",
       "        vertical-align: top;\n",
       "    }\n",
       "\n",
       "    .dataframe thead th {\n",
       "        text-align: right;\n",
       "    }\n",
       "</style>\n",
       "<table border=\"1\" class=\"dataframe\">\n",
       "  <thead>\n",
       "    <tr style=\"text-align: right;\">\n",
       "      <th></th>\n",
       "      <th>start_time</th>\n",
       "      <th>bat_landing_to_food</th>\n",
       "      <th>habit</th>\n",
       "      <th>rat_period_start</th>\n",
       "      <th>rat_period_end</th>\n",
       "      <th>seconds_after_rat_arrival</th>\n",
       "      <th>risk</th>\n",
       "      <th>reward</th>\n",
       "      <th>month</th>\n",
       "      <th>sunset_time</th>\n",
       "      <th>hours_after_sunset</th>\n",
       "      <th>season</th>\n",
       "    </tr>\n",
       "  </thead>\n",
       "  <tbody>\n",
       "    <tr>\n",
       "      <th>0</th>\n",
       "      <td>30/12/2017 18:37</td>\n",
       "      <td>16.000000</td>\n",
       "      <td>rat</td>\n",
       "      <td>30/12/2017 18:35</td>\n",
       "      <td>30/12/2017 18:38</td>\n",
       "      <td>108</td>\n",
       "      <td>1</td>\n",
       "      <td>0</td>\n",
       "      <td>0</td>\n",
       "      <td>30/12/2017 16:45</td>\n",
       "      <td>1.870833</td>\n",
       "      <td>0</td>\n",
       "    </tr>\n",
       "    <tr>\n",
       "      <th>1</th>\n",
       "      <td>30/12/2017 19:51</td>\n",
       "      <td>0.074016</td>\n",
       "      <td>fast</td>\n",
       "      <td>30/12/2017 19:50</td>\n",
       "      <td>30/12/2017 19:55</td>\n",
       "      <td>17</td>\n",
       "      <td>0</td>\n",
       "      <td>1</td>\n",
       "      <td>0</td>\n",
       "      <td>30/12/2017 16:45</td>\n",
       "      <td>3.100833</td>\n",
       "      <td>0</td>\n",
       "    </tr>\n",
       "    <tr>\n",
       "      <th>2</th>\n",
       "      <td>30/12/2017 19:51</td>\n",
       "      <td>4.000000</td>\n",
       "      <td>fast</td>\n",
       "      <td>30/12/2017 19:50</td>\n",
       "      <td>30/12/2017 19:55</td>\n",
       "      <td>41</td>\n",
       "      <td>0</td>\n",
       "      <td>1</td>\n",
       "      <td>0</td>\n",
       "      <td>30/12/2017 16:45</td>\n",
       "      <td>3.107500</td>\n",
       "      <td>0</td>\n",
       "    </tr>\n",
       "    <tr>\n",
       "      <th>3</th>\n",
       "      <td>30/12/2017 19:52</td>\n",
       "      <td>10.000000</td>\n",
       "      <td>rat</td>\n",
       "      <td>30/12/2017 19:50</td>\n",
       "      <td>30/12/2017 19:55</td>\n",
       "      <td>111</td>\n",
       "      <td>1</td>\n",
       "      <td>0</td>\n",
       "      <td>0</td>\n",
       "      <td>30/12/2017 16:45</td>\n",
       "      <td>3.126944</td>\n",
       "      <td>0</td>\n",
       "    </tr>\n",
       "    <tr>\n",
       "      <th>4</th>\n",
       "      <td>30/12/2017 19:54</td>\n",
       "      <td>15.000000</td>\n",
       "      <td>rat</td>\n",
       "      <td>30/12/2017 19:50</td>\n",
       "      <td>30/12/2017 19:55</td>\n",
       "      <td>194</td>\n",
       "      <td>1</td>\n",
       "      <td>0</td>\n",
       "      <td>0</td>\n",
       "      <td>30/12/2017 16:45</td>\n",
       "      <td>3.150000</td>\n",
       "      <td>0</td>\n",
       "    </tr>\n",
       "  </tbody>\n",
       "</table>\n",
       "</div>"
      ],
      "text/plain": [
       "         start_time  bat_landing_to_food habit  rat_period_start  \\\n",
       "0  30/12/2017 18:37            16.000000   rat  30/12/2017 18:35   \n",
       "1  30/12/2017 19:51             0.074016  fast  30/12/2017 19:50   \n",
       "2  30/12/2017 19:51             4.000000  fast  30/12/2017 19:50   \n",
       "3  30/12/2017 19:52            10.000000   rat  30/12/2017 19:50   \n",
       "4  30/12/2017 19:54            15.000000   rat  30/12/2017 19:50   \n",
       "\n",
       "     rat_period_end  seconds_after_rat_arrival  risk  reward  month  \\\n",
       "0  30/12/2017 18:38                        108     1       0      0   \n",
       "1  30/12/2017 19:55                         17     0       1      0   \n",
       "2  30/12/2017 19:55                         41     0       1      0   \n",
       "3  30/12/2017 19:55                        111     1       0      0   \n",
       "4  30/12/2017 19:55                        194     1       0      0   \n",
       "\n",
       "        sunset_time  hours_after_sunset  season  \n",
       "0  30/12/2017 16:45            1.870833       0  \n",
       "1  30/12/2017 16:45            3.100833       0  \n",
       "2  30/12/2017 16:45            3.107500       0  \n",
       "3  30/12/2017 16:45            3.126944       0  \n",
       "4  30/12/2017 16:45            3.150000       0  "
      ]
     },
     "metadata": {},
     "output_type": "display_data"
    },
    {
     "data": {
      "text/html": [
       "<div>\n",
       "<style scoped>\n",
       "    .dataframe tbody tr th:only-of-type {\n",
       "        vertical-align: middle;\n",
       "    }\n",
       "\n",
       "    .dataframe tbody tr th {\n",
       "        vertical-align: top;\n",
       "    }\n",
       "\n",
       "    .dataframe thead th {\n",
       "        text-align: right;\n",
       "    }\n",
       "</style>\n",
       "<table border=\"1\" class=\"dataframe\">\n",
       "  <thead>\n",
       "    <tr style=\"text-align: right;\">\n",
       "      <th></th>\n",
       "      <th>time</th>\n",
       "      <th>month</th>\n",
       "      <th>hours_after_sunset</th>\n",
       "      <th>bat_landing_number</th>\n",
       "      <th>food_availability</th>\n",
       "      <th>rat_minutes</th>\n",
       "      <th>rat_arrival_number</th>\n",
       "    </tr>\n",
       "  </thead>\n",
       "  <tbody>\n",
       "    <tr>\n",
       "      <th>0</th>\n",
       "      <td>26/12/2017 16:13</td>\n",
       "      <td>0</td>\n",
       "      <td>-0.5</td>\n",
       "      <td>20</td>\n",
       "      <td>4.000000</td>\n",
       "      <td>0.0</td>\n",
       "      <td>0</td>\n",
       "    </tr>\n",
       "    <tr>\n",
       "      <th>1</th>\n",
       "      <td>26/12/2017 16:43</td>\n",
       "      <td>0</td>\n",
       "      <td>0.0</td>\n",
       "      <td>28</td>\n",
       "      <td>4.000000</td>\n",
       "      <td>0.0</td>\n",
       "      <td>0</td>\n",
       "    </tr>\n",
       "    <tr>\n",
       "      <th>2</th>\n",
       "      <td>26/12/2017 17:13</td>\n",
       "      <td>0</td>\n",
       "      <td>0.5</td>\n",
       "      <td>25</td>\n",
       "      <td>4.000000</td>\n",
       "      <td>0.0</td>\n",
       "      <td>0</td>\n",
       "    </tr>\n",
       "    <tr>\n",
       "      <th>3</th>\n",
       "      <td>26/12/2017 17:43</td>\n",
       "      <td>0</td>\n",
       "      <td>1.0</td>\n",
       "      <td>71</td>\n",
       "      <td>4.000000</td>\n",
       "      <td>0.0</td>\n",
       "      <td>0</td>\n",
       "    </tr>\n",
       "    <tr>\n",
       "      <th>4</th>\n",
       "      <td>26/12/2017 18:13</td>\n",
       "      <td>0</td>\n",
       "      <td>1.5</td>\n",
       "      <td>44</td>\n",
       "      <td>3.753857</td>\n",
       "      <td>0.0</td>\n",
       "      <td>0</td>\n",
       "    </tr>\n",
       "  </tbody>\n",
       "</table>\n",
       "</div>"
      ],
      "text/plain": [
       "               time  month  hours_after_sunset  bat_landing_number  \\\n",
       "0  26/12/2017 16:13      0                -0.5                  20   \n",
       "1  26/12/2017 16:43      0                 0.0                  28   \n",
       "2  26/12/2017 17:13      0                 0.5                  25   \n",
       "3  26/12/2017 17:43      0                 1.0                  71   \n",
       "4  26/12/2017 18:13      0                 1.5                  44   \n",
       "\n",
       "   food_availability  rat_minutes  rat_arrival_number  \n",
       "0           4.000000          0.0                   0  \n",
       "1           4.000000          0.0                   0  \n",
       "2           4.000000          0.0                   0  \n",
       "3           4.000000          0.0                   0  \n",
       "4           3.753857          0.0                   0  "
      ]
     },
     "metadata": {},
     "output_type": "display_data"
    }
   ],
   "source": [
    "\n",
    "# Load datasets\n",
    "df1 = pd.read_csv(D1_PATH)\n",
    "df2 = pd.read_csv(D2_PATH)\n",
    "\n",
    "print(\"Dataset1 shape:\", df1.shape)\n",
    "print(\"Dataset2 shape:\", df2.shape)\n",
    "\n",
    "display(df1.head())\n",
    "display(df2.head())\n"
   ]
  },
  {
   "cell_type": "markdown",
   "id": "1c43d767",
   "metadata": {},
   "source": [
    "\n",
    "## Step 1 — Cleaning\n",
    "- Standardise column names  \n",
    "- Parse dates (if present)  \n",
    "- Drop duplicates  \n",
    "- Basic NA handling for critical variables  \n"
   ]
  },
  {
   "cell_type": "code",
   "execution_count": 66,
   "id": "b4dd4942",
   "metadata": {},
   "outputs": [
    {
     "name": "stdout",
     "output_type": "stream",
     "text": [
      "Missing values in dataset1 (non-zero only):\n",
      "habit    41\n",
      "dtype: int64\n",
      "\n",
      "Missing values in dataset2 (non-zero only):\n",
      "Series([], dtype: int64)\n",
      "\n",
      "After cleaning shapes: df1_clean = (906, 12) , df2_clean = (2123, 7)\n"
     ]
    }
   ],
   "source": [
    "\n",
    "def std_cols(df):\n",
    "    df = df.copy()\n",
    "    df.columns = df.columns.str.strip().str.lower().str.replace(\" \", \"_\")\n",
    "    return df\n",
    "\n",
    "def parse_dates(df, cols):\n",
    "    for c in cols:\n",
    "        if c in df.columns:\n",
    "            df[c] = pd.to_datetime(df[c], errors=\"coerce\", dayfirst=True)\n",
    "    return df\n",
    "\n",
    "df1 = std_cols(df1)\n",
    "df2 = std_cols(df2)\n",
    "\n",
    "df1 = parse_dates(df1, [\"start_time\", \"rat_period_start\", \"rat_period_end\", \"sunset_time\"])\n",
    "df2 = parse_dates(df2, [\"time\"])\n",
    "\n",
    "# Drop duplicates\n",
    "df1 = df1.drop_duplicates().reset_index(drop=True)\n",
    "df2 = df2.drop_duplicates().reset_index(drop=True)\n",
    "\n",
    "# Show missingness\n",
    "print(\"Missing values in dataset1 (non-zero only):\")\n",
    "print(df1.isna().sum()[df1.isna().sum()>0].sort_values(ascending=False))\n",
    "\n",
    "print(\"\\nMissing values in dataset2 (non-zero only):\")\n",
    "print(df2.isna().sum()[df2.isna().sum()>0].sort_values(ascending=False))\n",
    "\n",
    "# Keep rows with required columns present for analysis\n",
    "critical1 = [\"bat_landing_to_food\", \"season\"]\n",
    "critical2 = [\"bat_landing_number\", \"rat_arrival_number\", \"food_availability\"]\n",
    "\n",
    "df1_clean = df1.dropna(subset=[c for c in critical1 if c in df1.columns]).copy()\n",
    "df2_clean = df2.dropna(subset=[c for c in critical2 if c in df2.columns]).copy()\n",
    "\n",
    "print(\"\\nAfter cleaning shapes: df1_clean =\", df1_clean.shape, \", df2_clean =\", df2_clean.shape)\n"
   ]
  },
  {
   "cell_type": "markdown",
   "id": "61a80928",
   "metadata": {},
   "source": [
    "\n",
    "**Interpretation:** We standardised columns, parsed timestamps where provided, removed duplicates, and kept only rows with the key variables needed for the subsequent analyses so results are not biased by missing critical information.\n"
   ]
  },
  {
   "cell_type": "markdown",
   "id": "d315117e",
   "metadata": {},
   "source": [
    "## Step 2 — EDA & Descriptive Statistics"
   ]
  },
  {
   "cell_type": "code",
   "execution_count": 67,
   "id": "6b01c4d8",
   "metadata": {},
   "outputs": [
    {
     "data": {
      "text/html": [
       "<div>\n",
       "<style scoped>\n",
       "    .dataframe tbody tr th:only-of-type {\n",
       "        vertical-align: middle;\n",
       "    }\n",
       "\n",
       "    .dataframe tbody tr th {\n",
       "        vertical-align: top;\n",
       "    }\n",
       "\n",
       "    .dataframe thead th {\n",
       "        text-align: right;\n",
       "    }\n",
       "</style>\n",
       "<table border=\"1\" class=\"dataframe\">\n",
       "  <thead>\n",
       "    <tr style=\"text-align: right;\">\n",
       "      <th></th>\n",
       "      <th>count</th>\n",
       "      <th>mean</th>\n",
       "      <th>std</th>\n",
       "      <th>min</th>\n",
       "      <th>25%</th>\n",
       "      <th>50%</th>\n",
       "      <th>75%</th>\n",
       "      <th>max</th>\n",
       "    </tr>\n",
       "  </thead>\n",
       "  <tbody>\n",
       "    <tr>\n",
       "      <th>bat_landing_to_food</th>\n",
       "      <td>906.0</td>\n",
       "      <td>11.720544</td>\n",
       "      <td>27.658777</td>\n",
       "      <td>0.010238</td>\n",
       "      <td>1.000000</td>\n",
       "      <td>4.000000</td>\n",
       "      <td>11.75000</td>\n",
       "      <td>443.000000</td>\n",
       "    </tr>\n",
       "    <tr>\n",
       "      <th>seconds_after_rat_arrival</th>\n",
       "      <td>906.0</td>\n",
       "      <td>282.786976</td>\n",
       "      <td>241.092545</td>\n",
       "      <td>0.000000</td>\n",
       "      <td>89.250000</td>\n",
       "      <td>206.000000</td>\n",
       "      <td>447.25000</td>\n",
       "      <td>949.000000</td>\n",
       "    </tr>\n",
       "    <tr>\n",
       "      <th>risk</th>\n",
       "      <td>906.0</td>\n",
       "      <td>0.494481</td>\n",
       "      <td>0.500246</td>\n",
       "      <td>0.000000</td>\n",
       "      <td>0.000000</td>\n",
       "      <td>0.000000</td>\n",
       "      <td>1.00000</td>\n",
       "      <td>1.000000</td>\n",
       "    </tr>\n",
       "    <tr>\n",
       "      <th>reward</th>\n",
       "      <td>906.0</td>\n",
       "      <td>0.534216</td>\n",
       "      <td>0.499103</td>\n",
       "      <td>0.000000</td>\n",
       "      <td>0.000000</td>\n",
       "      <td>1.000000</td>\n",
       "      <td>1.00000</td>\n",
       "      <td>1.000000</td>\n",
       "    </tr>\n",
       "    <tr>\n",
       "      <th>month</th>\n",
       "      <td>906.0</td>\n",
       "      <td>3.800221</td>\n",
       "      <td>1.199834</td>\n",
       "      <td>0.000000</td>\n",
       "      <td>4.000000</td>\n",
       "      <td>4.000000</td>\n",
       "      <td>5.00000</td>\n",
       "      <td>5.000000</td>\n",
       "    </tr>\n",
       "    <tr>\n",
       "      <th>hours_after_sunset</th>\n",
       "      <td>906.0</td>\n",
       "      <td>5.532579</td>\n",
       "      <td>2.415383</td>\n",
       "      <td>-0.261667</td>\n",
       "      <td>3.775069</td>\n",
       "      <td>5.627083</td>\n",
       "      <td>7.40625</td>\n",
       "      <td>12.091944</td>\n",
       "    </tr>\n",
       "    <tr>\n",
       "      <th>season</th>\n",
       "      <td>906.0</td>\n",
       "      <td>0.833333</td>\n",
       "      <td>0.372884</td>\n",
       "      <td>0.000000</td>\n",
       "      <td>1.000000</td>\n",
       "      <td>1.000000</td>\n",
       "      <td>1.00000</td>\n",
       "      <td>1.000000</td>\n",
       "    </tr>\n",
       "  </tbody>\n",
       "</table>\n",
       "</div>"
      ],
      "text/plain": [
       "                           count        mean         std       min        25%  \\\n",
       "bat_landing_to_food        906.0   11.720544   27.658777  0.010238   1.000000   \n",
       "seconds_after_rat_arrival  906.0  282.786976  241.092545  0.000000  89.250000   \n",
       "risk                       906.0    0.494481    0.500246  0.000000   0.000000   \n",
       "reward                     906.0    0.534216    0.499103  0.000000   0.000000   \n",
       "month                      906.0    3.800221    1.199834  0.000000   4.000000   \n",
       "hours_after_sunset         906.0    5.532579    2.415383 -0.261667   3.775069   \n",
       "season                     906.0    0.833333    0.372884  0.000000   1.000000   \n",
       "\n",
       "                                  50%        75%         max  \n",
       "bat_landing_to_food          4.000000   11.75000  443.000000  \n",
       "seconds_after_rat_arrival  206.000000  447.25000  949.000000  \n",
       "risk                         0.000000    1.00000    1.000000  \n",
       "reward                       1.000000    1.00000    1.000000  \n",
       "month                        4.000000    5.00000    5.000000  \n",
       "hours_after_sunset           5.627083    7.40625   12.091944  \n",
       "season                       1.000000    1.00000    1.000000  "
      ]
     },
     "metadata": {},
     "output_type": "display_data"
    },
    {
     "data": {
      "text/html": [
       "<div>\n",
       "<style scoped>\n",
       "    .dataframe tbody tr th:only-of-type {\n",
       "        vertical-align: middle;\n",
       "    }\n",
       "\n",
       "    .dataframe tbody tr th {\n",
       "        vertical-align: top;\n",
       "    }\n",
       "\n",
       "    .dataframe thead th {\n",
       "        text-align: right;\n",
       "    }\n",
       "</style>\n",
       "<table border=\"1\" class=\"dataframe\">\n",
       "  <thead>\n",
       "    <tr style=\"text-align: right;\">\n",
       "      <th></th>\n",
       "      <th>count</th>\n",
       "      <th>mean</th>\n",
       "      <th>std</th>\n",
       "      <th>min</th>\n",
       "      <th>25%</th>\n",
       "      <th>50%</th>\n",
       "      <th>75%</th>\n",
       "      <th>max</th>\n",
       "    </tr>\n",
       "  </thead>\n",
       "  <tbody>\n",
       "    <tr>\n",
       "      <th>month</th>\n",
       "      <td>2123.0</td>\n",
       "      <td>3.083844</td>\n",
       "      <td>1.642261</td>\n",
       "      <td>0.0</td>\n",
       "      <td>2.000000</td>\n",
       "      <td>4.000000</td>\n",
       "      <td>4.000000</td>\n",
       "      <td>6.0</td>\n",
       "    </tr>\n",
       "    <tr>\n",
       "      <th>hours_after_sunset</th>\n",
       "      <td>2123.0</td>\n",
       "      <td>5.265426</td>\n",
       "      <td>4.076188</td>\n",
       "      <td>-2.0</td>\n",
       "      <td>2.000000</td>\n",
       "      <td>5.000000</td>\n",
       "      <td>8.500000</td>\n",
       "      <td>13.5</td>\n",
       "    </tr>\n",
       "    <tr>\n",
       "      <th>bat_landing_number</th>\n",
       "      <td>2123.0</td>\n",
       "      <td>32.083373</td>\n",
       "      <td>25.614431</td>\n",
       "      <td>0.0</td>\n",
       "      <td>11.000000</td>\n",
       "      <td>27.000000</td>\n",
       "      <td>48.000000</td>\n",
       "      <td>178.0</td>\n",
       "    </tr>\n",
       "    <tr>\n",
       "      <th>food_availability</th>\n",
       "      <td>2123.0</td>\n",
       "      <td>2.445874</td>\n",
       "      <td>1.218353</td>\n",
       "      <td>0.0</td>\n",
       "      <td>1.962206</td>\n",
       "      <td>2.951877</td>\n",
       "      <td>3.105873</td>\n",
       "      <td>4.0</td>\n",
       "    </tr>\n",
       "    <tr>\n",
       "      <th>rat_minutes</th>\n",
       "      <td>2123.0</td>\n",
       "      <td>1.994442</td>\n",
       "      <td>6.793397</td>\n",
       "      <td>0.0</td>\n",
       "      <td>0.000000</td>\n",
       "      <td>0.000000</td>\n",
       "      <td>0.158333</td>\n",
       "      <td>120.0</td>\n",
       "    </tr>\n",
       "    <tr>\n",
       "      <th>rat_arrival_number</th>\n",
       "      <td>2123.0</td>\n",
       "      <td>0.444654</td>\n",
       "      <td>1.019195</td>\n",
       "      <td>0.0</td>\n",
       "      <td>0.000000</td>\n",
       "      <td>0.000000</td>\n",
       "      <td>1.000000</td>\n",
       "      <td>17.0</td>\n",
       "    </tr>\n",
       "  </tbody>\n",
       "</table>\n",
       "</div>"
      ],
      "text/plain": [
       "                     count       mean        std  min        25%        50%  \\\n",
       "month               2123.0   3.083844   1.642261  0.0   2.000000   4.000000   \n",
       "hours_after_sunset  2123.0   5.265426   4.076188 -2.0   2.000000   5.000000   \n",
       "bat_landing_number  2123.0  32.083373  25.614431  0.0  11.000000  27.000000   \n",
       "food_availability   2123.0   2.445874   1.218353  0.0   1.962206   2.951877   \n",
       "rat_minutes         2123.0   1.994442   6.793397  0.0   0.000000   0.000000   \n",
       "rat_arrival_number  2123.0   0.444654   1.019195  0.0   0.000000   0.000000   \n",
       "\n",
       "                          75%    max  \n",
       "month                4.000000    6.0  \n",
       "hours_after_sunset   8.500000   13.5  \n",
       "bat_landing_number  48.000000  178.0  \n",
       "food_availability    3.105873    4.0  \n",
       "rat_minutes          0.158333  120.0  \n",
       "rat_arrival_number   1.000000   17.0  "
      ]
     },
     "metadata": {},
     "output_type": "display_data"
    }
   ],
   "source": [
    "\n",
    "# Numeric summaries\n",
    "desc1 = df1_clean.select_dtypes(include=[np.number]).describe().T\n",
    "desc2 = df2_clean.select_dtypes(include=[np.number]).describe().T\n",
    "display(desc1)\n",
    "display(desc2)\n"
   ]
  },
  {
   "cell_type": "markdown",
   "id": "7944ba96",
   "metadata": {},
   "source": [
    "\n",
    "**Story:** These tables summarise central tendency and spread for all numeric variables. \n",
    "They show typical values (mean/median) and variability (standard deviation), highlighting whether behaviours are consistent or highly variable.\n"
   ]
  },
  {
   "cell_type": "markdown",
   "id": "dcab3137",
   "metadata": {},
   "source": [
    "### Distributions"
   ]
  },
  {
   "cell_type": "code",
   "execution_count": 68,
   "id": "5260f91c",
   "metadata": {},
   "outputs": [
    {
     "data": {
      "image/png": "[encoded data removed]",
      "text/plain": [
       "<Figure size 640x480 with 1 Axes>"
      ]
     },
     "metadata": {},
     "output_type": "display_data"
    }
   ],
   "source": [
    "\n",
    "# Histogram: Bat hesitation time\n",
    "plt.figure()\n",
    "plt.hist(df1_clean[\"bat_landing_to_food\"].dropna().astype(float), bins=40)\n",
    "plt.title(\"Distribution of Bat Hesitation Time (seconds)\")\n",
    "plt.xlabel(\"Seconds until approaching food\")\n",
    "plt.ylabel(\"Count\")\n",
    "plt.show()\n"
   ]
  },
  {
   "cell_type": "markdown",
   "id": "b0ea8799",
   "metadata": {},
   "source": [
    "\n",
    "**Story:** Most bats approach food quickly after landing, but the long right tail indicates occasional long delays—potential high-vigilance episodes.\n"
   ]
  },
  {
   "cell_type": "code",
   "execution_count": 69,
   "id": "d29df9bc",
   "metadata": {},
   "outputs": [
    {
     "data": {
      "image/png": "[encoded data removed]",
      "text/plain": [
       "<Figure size 640x480 with 1 Axes>"
      ]
     },
     "metadata": {},
     "output_type": "display_data"
    }
   ],
   "source": [
    "\n",
    "# Histogram: Rat arrivals per 30-min window\n",
    "if \"rat_arrival_number\" in df2_clean.columns:\n",
    "    plt.figure()\n",
    "    plt.hist(df2_clean[\"rat_arrival_number\"].dropna().astype(float), bins=30)\n",
    "    plt.title(\"Distribution of Rat Arrivals (per 30 min)\")\n",
    "    plt.xlabel(\"Rat arrivals\")\n",
    "    plt.ylabel(\"Frequency\")\n",
    "    plt.show()\n"
   ]
  },
  {
   "cell_type": "markdown",
   "id": "9a0f471f",
   "metadata": {},
   "source": [
    "\n",
    "**Story:** Most observation windows show few or no rat arrivals, with occasional bursts of activity.\n"
   ]
  },
  {
   "cell_type": "markdown",
   "id": "93ef7737",
   "metadata": {},
   "source": [
    "### Relationships"
   ]
  },
  {
   "cell_type": "code",
   "execution_count": 70,
   "id": "fb622769",
   "metadata": {},
   "outputs": [
    {
     "data": {
      "image/png": "[encoded data removed]",
      "text/plain": [
       "<Figure size 640x480 with 1 Axes>"
      ]
     },
     "metadata": {},
     "output_type": "display_data"
    }
   ],
   "source": [
    "\n",
    "# Scatter: Rat arrivals vs Bat landings (dataset2)\n",
    "if {\"rat_arrival_number\",\"bat_landing_number\"}.issubset(df2_clean.columns):\n",
    "    plt.figure()\n",
    "    x = df2_clean[\"rat_arrival_number\"].astype(float)\n",
    "    y = df2_clean[\"bat_landing_number\"].astype(float)\n",
    "    plt.scatter(x, y, s=12)\n",
    "    plt.title(\"Rat Arrivals vs Bat Landings\")\n",
    "    plt.xlabel(\"Rat arrivals (per 30 min)\")\n",
    "    plt.ylabel(\"Bat landings (per 30 min)\")\n",
    "    plt.show()\n"
   ]
  },
  {
   "cell_type": "markdown",
   "id": "259df352",
   "metadata": {},
   "source": [
    "\n",
    "**Story:** This plot indicates whether increased rat activity coincides with reduced bat landings (competition) or with increased bat attempts (contested feeding).\n"
   ]
  },
  {
   "cell_type": "code",
   "execution_count": 71,
   "id": "a32cb798",
   "metadata": {},
   "outputs": [
    {
     "data": {
      "image/png": "[encoded data removed]",
      "text/plain": [
       "<Figure size 640x480 with 1 Axes>"
      ]
     },
     "metadata": {},
     "output_type": "display_data"
    }
   ],
   "source": [
    "\n",
    "# Boxplot: Bat hesitation by season (dataset1)\n",
    "if {\"bat_landing_to_food\",\"season\"}.issubset(df1_clean.columns):\n",
    "    # Prepare data by season\n",
    "    data = []\n",
    "    labels = []\n",
    "    for s, grp in df1_clean.groupby(\"season\"):\n",
    "        vals = grp[\"bat_landing_to_food\"].dropna().astype(float).values\n",
    "        if len(vals) > 0:\n",
    "            data.append(vals)\n",
    "            labels.append(str(s))\n",
    "    if len(data) >= 2:\n",
    "        plt.figure()\n",
    "        plt.boxplot(data, labels=labels, showmeans=True)\n",
    "        plt.title(\"Bat Hesitation Time by Season\")\n",
    "        plt.xlabel(\"Season\")\n",
    "        plt.ylabel(\"Seconds until approaching food\")\n",
    "        plt.show()\n"
   ]
  },
  {
   "cell_type": "markdown",
   "id": "28e8e0a1",
   "metadata": {},
   "source": [
    "\n",
    "**Story:** If medians and upper whiskers are higher in a particular season, bats hesitate longer then—consistent with seasonal shifts in risk or competition.\n"
   ]
  },
  {
   "cell_type": "code",
   "execution_count": 89,
   "id": "63f3145e",
   "metadata": {},
   "outputs": [],
   "source": [
    "def scatter_plot(df, x, y, dataset_label, hue=None):\n",
    "    if x not in df.columns or y not in df.columns:\n",
    "        return\n",
    "    s = df[[x,y]].dropna()\n",
    "    if s.empty:\n",
    "        return\n",
    "    plt.figure()\n",
    "    plt.scatter(s[x], s[y], s=10, alpha=0.6)\n",
    "    plt.title(f\"{dataset_label} - Scatter {y} vs {x}\")\n",
    "    plt.xlabel(x); plt.ylabel(y)\n",
    "    plt.tight_layout(); plt.show()\n",
    "    "
   ]
  },
  {
   "cell_type": "code",
   "execution_count": 91,
   "id": "55cb5372",
   "metadata": {},
   "outputs": [
    {
     "data": {
      "image/png": "[encoded data removed]",
      "text/plain": [
       "<Figure size 640x480 with 1 Axes>"
      ]
     },
     "metadata": {},
     "output_type": "display_data"
    }
   ],
   "source": [
    "if {'seconds_after_rat_arrival','bat_landing_to_food'}.issubset(df1.columns):\n",
    "    scatter_plot(df1, 'seconds_after_rat_arrival', 'bat_landing_to_food', 'Dataset1')\n"
   ]
  },
  {
   "cell_type": "markdown",
   "id": "1045d328",
   "metadata": {},
   "source": [
    "Scatter plot story: Bats often approached the food quickly. Bats don’t necessarily take more or less time to approach food as more time passes after the rat appears."
   ]
  },
  {
   "cell_type": "code",
   "execution_count": 92,
   "id": "a8638dc0",
   "metadata": {},
   "outputs": [
    {
     "data": {
      "image/png": "[encoded data removed]",
      "text/plain": [
       "<Figure size 640x480 with 1 Axes>"
      ]
     },
     "metadata": {},
     "output_type": "display_data"
    }
   ],
   "source": [
    "if {'rat_minutes','bat_landing_number'}.issubset(df2.columns):\n",
    "    scatter_plot(df2, 'rat_minutes', 'bat_landing_number', 'Dataset2')"
   ]
  },
  {
   "cell_type": "markdown",
   "id": "daeeed04",
   "metadata": {},
   "source": [
    "Scatter plot story: a negative relationship: longer rat presence → fewer bat landings.\n",
    "Bats landed more often when the rat had been there for less time. This suggests bats avoid landing when the rat has been around longer."
   ]
  },
  {
   "cell_type": "markdown",
   "id": "915a4a8f",
   "metadata": {},
   "source": [
    "## Step 3 — Outliers (with vs without)"
   ]
  },
  {
   "cell_type": "code",
   "execution_count": 72,
   "id": "05aee4fd",
   "metadata": {},
   "outputs": [
    {
     "data": {
      "image/png": "[encoded data removed]",
      "text/plain": [
       "<Figure size 640x480 with 1 Axes>"
      ]
     },
     "metadata": {},
     "output_type": "display_data"
    },
    {
     "name": "stdout",
     "output_type": "stream",
     "text": [
      "With outliers -> mean: 11.721, SD: 27.659\n",
      "Without outliers (IQR rule) -> mean: 5.695, SD: 6.484\n"
     ]
    }
   ],
   "source": [
    "\n",
    "# Boxplot to visualise outliers for hesitation time\n",
    "plt.figure()\n",
    "plt.boxplot(df1_clean[\"bat_landing_to_food\"].dropna().astype(float), vert=False, showmeans=True)\n",
    "plt.title(\"Outliers in Bat Hesitation Time\")\n",
    "plt.xlabel(\"Seconds until approaching food\")\n",
    "plt.show()\n",
    "\n",
    "# Mean/SD with outliers\n",
    "hes = df1_clean[\"bat_landing_to_food\"].dropna().astype(float)\n",
    "mean_with = hes.mean()\n",
    "sd_with = hes.std()\n",
    "\n",
    "# IQR trimming\n",
    "Q1 = hes.quantile(0.25)\n",
    "Q3 = hes.quantile(0.75)\n",
    "IQR = Q3 - Q1\n",
    "lower = Q1 - 1.5*IQR\n",
    "upper = Q3 + 1.5*IQR\n",
    "hes_trim = hes[(hes >= lower) & (hes <= upper)]\n",
    "\n",
    "mean_without = hes_trim.mean()\n",
    "sd_without = hes_trim.std()\n",
    "\n",
    "print(\"With outliers -> mean: %.3f, SD: %.3f\" % (mean_with, sd_with))\n",
    "print(\"Without outliers (IQR rule) -> mean: %.3f, SD: %.3f\" % (mean_without, sd_without))\n"
   ]
  },
  {
   "cell_type": "markdown",
   "id": "3f57ee91",
   "metadata": {},
   "source": [
    "\n",
    "**Story:** Outliers inflate both mean and spread because a small number of extreme hesitation events pull the average upward. \n",
    "Reporting both versions clarifies the difference between **typical** behaviour (trimmed) and **rare extremes** (full data).\n",
    "\n",
    "### Key Observations: \n",
    " - Most Bats Approach Quickly\n",
    " - Presence of Many Outliers\n",
    "    - There are many individual points to the right of the boxplot, which are outliers.\n",
    "    - These outliers represent bats that took significantly longer to approach the food.\n",
    "    - Some hesitation times go beyond 400 seconds, indicating extreme hesitation in a few bats.\n",
    "\n",
    "Hesitation times (bat_landing_to_food) are right-skewed with some very long delays. That’s typical for time-to-action variables. We did not remove outliers automatically for the hypothesis tests here, because these values are plausibly real behavioural extremes. Where non-normality mattered, we used non-parametric tests.\n"
   ]
  },
  {
   "cell_type": "markdown",
   "id": "f5c82361",
   "metadata": {},
   "source": [
    "## Step 4 — Feature Engineering"
   ]
  },
  {
   "cell_type": "code",
   "execution_count": 74,
   "id": "f35cd78a",
   "metadata": {},
   "outputs": [
    {
     "data": {
      "text/html": [
       "<div>\n",
       "<style scoped>\n",
       "    .dataframe tbody tr th:only-of-type {\n",
       "        vertical-align: middle;\n",
       "    }\n",
       "\n",
       "    .dataframe tbody tr th {\n",
       "        vertical-align: top;\n",
       "    }\n",
       "\n",
       "    .dataframe thead th {\n",
       "        text-align: right;\n",
       "    }\n",
       "</style>\n",
       "<table border=\"1\" class=\"dataframe\">\n",
       "  <thead>\n",
       "    <tr style=\"text-align: right;\">\n",
       "      <th></th>\n",
       "      <th>bat_landing_to_food</th>\n",
       "      <th>seconds_after_rat_arrival</th>\n",
       "      <th>rat_present</th>\n",
       "      <th>vigilance_high</th>\n",
       "    </tr>\n",
       "  </thead>\n",
       "  <tbody>\n",
       "    <tr>\n",
       "      <th>0</th>\n",
       "      <td>16.000000</td>\n",
       "      <td>108</td>\n",
       "      <td>1</td>\n",
       "      <td>1</td>\n",
       "    </tr>\n",
       "    <tr>\n",
       "      <th>1</th>\n",
       "      <td>0.074016</td>\n",
       "      <td>17</td>\n",
       "      <td>1</td>\n",
       "      <td>0</td>\n",
       "    </tr>\n",
       "    <tr>\n",
       "      <th>2</th>\n",
       "      <td>4.000000</td>\n",
       "      <td>41</td>\n",
       "      <td>1</td>\n",
       "      <td>0</td>\n",
       "    </tr>\n",
       "    <tr>\n",
       "      <th>3</th>\n",
       "      <td>10.000000</td>\n",
       "      <td>111</td>\n",
       "      <td>1</td>\n",
       "      <td>1</td>\n",
       "    </tr>\n",
       "    <tr>\n",
       "      <th>4</th>\n",
       "      <td>15.000000</td>\n",
       "      <td>194</td>\n",
       "      <td>1</td>\n",
       "      <td>1</td>\n",
       "    </tr>\n",
       "  </tbody>\n",
       "</table>\n",
       "</div>"
      ],
      "text/plain": [
       "   bat_landing_to_food  seconds_after_rat_arrival  rat_present  vigilance_high\n",
       "0            16.000000                        108            1               1\n",
       "1             0.074016                         17            1               0\n",
       "2             4.000000                         41            1               0\n",
       "3            10.000000                        111            1               1\n",
       "4            15.000000                        194            1               1"
      ]
     },
     "metadata": {},
     "output_type": "display_data"
    },
    {
     "data": {
      "text/html": [
       "<div>\n",
       "<style scoped>\n",
       "    .dataframe tbody tr th:only-of-type {\n",
       "        vertical-align: middle;\n",
       "    }\n",
       "\n",
       "    .dataframe tbody tr th {\n",
       "        vertical-align: top;\n",
       "    }\n",
       "\n",
       "    .dataframe thead th {\n",
       "        text-align: right;\n",
       "    }\n",
       "</style>\n",
       "<table border=\"1\" class=\"dataframe\">\n",
       "  <thead>\n",
       "    <tr style=\"text-align: right;\">\n",
       "      <th></th>\n",
       "      <th>month</th>\n",
       "      <th>season_label</th>\n",
       "      <th>bat_present</th>\n",
       "      <th>rat_present</th>\n",
       "    </tr>\n",
       "  </thead>\n",
       "  <tbody>\n",
       "    <tr>\n",
       "      <th>0</th>\n",
       "      <td>0</td>\n",
       "      <td>0</td>\n",
       "      <td>1</td>\n",
       "      <td>0</td>\n",
       "    </tr>\n",
       "    <tr>\n",
       "      <th>1</th>\n",
       "      <td>0</td>\n",
       "      <td>0</td>\n",
       "      <td>1</td>\n",
       "      <td>0</td>\n",
       "    </tr>\n",
       "    <tr>\n",
       "      <th>2</th>\n",
       "      <td>0</td>\n",
       "      <td>0</td>\n",
       "      <td>1</td>\n",
       "      <td>0</td>\n",
       "    </tr>\n",
       "    <tr>\n",
       "      <th>3</th>\n",
       "      <td>0</td>\n",
       "      <td>0</td>\n",
       "      <td>1</td>\n",
       "      <td>0</td>\n",
       "    </tr>\n",
       "    <tr>\n",
       "      <th>4</th>\n",
       "      <td>0</td>\n",
       "      <td>0</td>\n",
       "      <td>1</td>\n",
       "      <td>0</td>\n",
       "    </tr>\n",
       "  </tbody>\n",
       "</table>\n",
       "</div>"
      ],
      "text/plain": [
       "   month season_label  bat_present  rat_present\n",
       "0      0            0            1            0\n",
       "1      0            0            1            0\n",
       "2      0            0            1            0\n",
       "3      0            0            1            0\n",
       "4      0            0            1            0"
      ]
     },
     "metadata": {},
     "output_type": "display_data"
    }
   ],
   "source": [
    "\n",
    "# rat_present flag (rats already at platform before bat arrives)\n",
    "if \"seconds_after_rat_arrival\" in df1_clean.columns:\n",
    "    # If >0, rats arrived before the bat landed (present at landing). Treat NaN as 0 (absent).\n",
    "    rat_sec = df1_clean[\"seconds_after_rat_arrival\"].fillna(0).astype(float)\n",
    "    df1_clean[\"rat_present\"] = (rat_sec > 0).astype(int)\n",
    "else:\n",
    "    df1_clean[\"rat_present\"] = np.nan\n",
    "\n",
    "# vigilance_high flag: above-median hesitation\n",
    "if \"bat_landing_to_food\" in df1_clean.columns:\n",
    "    med_hes = df1_clean[\"bat_landing_to_food\"].median(skipna=True)\n",
    "    df1_clean[\"vigilance_high\"] = (df1_clean[\"bat_landing_to_food\"].astype(float) > med_hes).astype(int)\n",
    "else:\n",
    "    df1_clean[\"vigilance_high\"] = np.nan\n",
    "\n",
    "# season_label for dataset2 (derive from month if needed)\n",
    "def month_to_season_label(m):\n",
    "    if pd.isna(m):\n",
    "        return np.nan\n",
    "    m = str(m).strip().lower()\n",
    "    # Map common month strings to seasons (Southern Hemisphere)\n",
    "    winter = {\"june\",\"jul\",\"july\",\"aug\",\"august\",\"06\",\"07\",\"08\"}\n",
    "    spring = {\"sep\",\"sept\",\"september\",\"oct\",\"october\",\"nov\",\"november\",\"09\",\"10\",\"11\"}\n",
    "    if m in winter:\n",
    "        return \"winter\"\n",
    "    if m in spring:\n",
    "        return \"spring\"\n",
    "    return m\n",
    "\n",
    "if \"season\" in df2_clean.columns:\n",
    "    df2_clean[\"season_label\"] = df2_clean[\"season\"].astype(str).str.lower()\n",
    "elif \"month\" in df2_clean.columns:\n",
    "    df2_clean[\"season_label\"] = df2_clean[\"month\"].apply(month_to_season_label)\n",
    "else:\n",
    "    df2_clean[\"season_label\"] = np.nan\n",
    "\n",
    "if \"bat_landing_number\" in df2_clean.columns:\n",
    "    df2_clean[\"bat_present\"] = (df2_clean[\"bat_landing_number\"] > 0).astype(int)\n",
    "else:\n",
    "    df2_clean[\"bat_present\"] = np.nan\n",
    "\n",
    "if \"rat_minutes\" in df2_clean.columns:\n",
    "    df2_clean[\"rat_present\"] = (df2_clean[\"rat_minutes\"] > 0).astype(int)\n",
    "elif \"rat_arrival_number\" in df2_clean.columns:\n",
    "    df2_clean[\"rat_present\"] = (df2_clean[\"rat_arrival_number\"] > 0).astype(int)\n",
    "else:\n",
    "    df2_clean[\"rat_present\"] = np.nan\n",
    "\n",
    "\n",
    "display(df1_clean[[\"bat_landing_to_food\",\"seconds_after_rat_arrival\",\"rat_present\",\"vigilance_high\"]].head())\n",
    "display(df2_clean[[\"month\",\"season_label\", \"bat_present\", \"rat_present\"]].head())\n"
   ]
  },
  {
   "cell_type": "markdown",
   "id": "e69d4771",
   "metadata": {},
   "source": [
    "\n",
    "**Why these features?**  \n",
    "- `rat_present` connects directly to the hypothesis that bats alter vigilance in the presence of rats.  \n",
    "- `vigilance_high` converts hesitation time into a clear behavioural label for contingency analysis.  \n",
    "- `season_label` enables seasonal comparisons (winter vs spring) for Investigation B.\n"
   ]
  },
  {
   "cell_type": "markdown",
   "id": "521a15e9",
   "metadata": {},
   "source": [
    "## Step 5 — Descriptive Summaries by Groups"
   ]
  },
  {
   "cell_type": "code",
   "execution_count": 75,
   "id": "bfbb57d5",
   "metadata": {},
   "outputs": [
    {
     "data": {
      "text/html": [
       "<div>\n",
       "<style scoped>\n",
       "    .dataframe tbody tr th:only-of-type {\n",
       "        vertical-align: middle;\n",
       "    }\n",
       "\n",
       "    .dataframe tbody tr th {\n",
       "        vertical-align: top;\n",
       "    }\n",
       "\n",
       "    .dataframe thead th {\n",
       "        text-align: right;\n",
       "    }\n",
       "</style>\n",
       "<table border=\"1\" class=\"dataframe\">\n",
       "  <thead>\n",
       "    <tr style=\"text-align: right;\">\n",
       "      <th></th>\n",
       "      <th>count</th>\n",
       "      <th>mean</th>\n",
       "      <th>std</th>\n",
       "      <th>median</th>\n",
       "    </tr>\n",
       "    <tr>\n",
       "      <th>rat_present</th>\n",
       "      <th></th>\n",
       "      <th></th>\n",
       "      <th></th>\n",
       "      <th></th>\n",
       "    </tr>\n",
       "  </thead>\n",
       "  <tbody>\n",
       "    <tr>\n",
       "      <th>0</th>\n",
       "      <td>6</td>\n",
       "      <td>14.174608</td>\n",
       "      <td>17.190027</td>\n",
       "      <td>6.0</td>\n",
       "    </tr>\n",
       "    <tr>\n",
       "      <th>1</th>\n",
       "      <td>900</td>\n",
       "      <td>11.704183</td>\n",
       "      <td>27.720566</td>\n",
       "      <td>4.0</td>\n",
       "    </tr>\n",
       "  </tbody>\n",
       "</table>\n",
       "</div>"
      ],
      "text/plain": [
       "             count       mean        std  median\n",
       "rat_present                                     \n",
       "0                6  14.174608  17.190027     6.0\n",
       "1              900  11.704183  27.720566     4.0"
      ]
     },
     "metadata": {},
     "output_type": "display_data"
    },
    {
     "data": {
      "text/html": [
       "<div>\n",
       "<style scoped>\n",
       "    .dataframe tbody tr th:only-of-type {\n",
       "        vertical-align: middle;\n",
       "    }\n",
       "\n",
       "    .dataframe tbody tr th {\n",
       "        vertical-align: top;\n",
       "    }\n",
       "\n",
       "    .dataframe thead th {\n",
       "        text-align: right;\n",
       "    }\n",
       "</style>\n",
       "<table border=\"1\" class=\"dataframe\">\n",
       "  <thead>\n",
       "    <tr style=\"text-align: right;\">\n",
       "      <th></th>\n",
       "      <th>count</th>\n",
       "      <th>mean</th>\n",
       "      <th>std</th>\n",
       "      <th>median</th>\n",
       "    </tr>\n",
       "    <tr>\n",
       "      <th>season</th>\n",
       "      <th></th>\n",
       "      <th></th>\n",
       "      <th></th>\n",
       "      <th></th>\n",
       "    </tr>\n",
       "  </thead>\n",
       "  <tbody>\n",
       "    <tr>\n",
       "      <th>0</th>\n",
       "      <td>151</td>\n",
       "      <td>6.039623</td>\n",
       "      <td>13.960667</td>\n",
       "      <td>2.0</td>\n",
       "    </tr>\n",
       "    <tr>\n",
       "      <th>1</th>\n",
       "      <td>755</td>\n",
       "      <td>12.856728</td>\n",
       "      <td>29.524286</td>\n",
       "      <td>4.0</td>\n",
       "    </tr>\n",
       "  </tbody>\n",
       "</table>\n",
       "</div>"
      ],
      "text/plain": [
       "        count       mean        std  median\n",
       "season                                     \n",
       "0         151   6.039623  13.960667     2.0\n",
       "1         755  12.856728  29.524286     4.0"
      ]
     },
     "metadata": {},
     "output_type": "display_data"
    },
    {
     "data": {
      "text/html": [
       "<div>\n",
       "<style scoped>\n",
       "    .dataframe tbody tr th:only-of-type {\n",
       "        vertical-align: middle;\n",
       "    }\n",
       "\n",
       "    .dataframe tbody tr th {\n",
       "        vertical-align: top;\n",
       "    }\n",
       "\n",
       "    .dataframe thead th {\n",
       "        text-align: right;\n",
       "    }\n",
       "</style>\n",
       "<table border=\"1\" class=\"dataframe\">\n",
       "  <thead>\n",
       "    <tr style=\"text-align: right;\">\n",
       "      <th></th>\n",
       "      <th>count</th>\n",
       "      <th>mean</th>\n",
       "      <th>std</th>\n",
       "      <th>median</th>\n",
       "    </tr>\n",
       "    <tr>\n",
       "      <th>season_label</th>\n",
       "      <th></th>\n",
       "      <th></th>\n",
       "      <th></th>\n",
       "      <th></th>\n",
       "    </tr>\n",
       "  </thead>\n",
       "  <tbody>\n",
       "    <tr>\n",
       "      <th>0</th>\n",
       "      <td>156</td>\n",
       "      <td>0.108974</td>\n",
       "      <td>0.332609</td>\n",
       "      <td>0.0</td>\n",
       "    </tr>\n",
       "    <tr>\n",
       "      <th>1</th>\n",
       "      <td>283</td>\n",
       "      <td>0.113074</td>\n",
       "      <td>0.328232</td>\n",
       "      <td>0.0</td>\n",
       "    </tr>\n",
       "    <tr>\n",
       "      <th>2</th>\n",
       "      <td>441</td>\n",
       "      <td>0.365079</td>\n",
       "      <td>1.243366</td>\n",
       "      <td>0.0</td>\n",
       "    </tr>\n",
       "    <tr>\n",
       "      <th>3</th>\n",
       "      <td>132</td>\n",
       "      <td>0.166667</td>\n",
       "      <td>0.655763</td>\n",
       "      <td>0.0</td>\n",
       "    </tr>\n",
       "    <tr>\n",
       "      <th>4</th>\n",
       "      <td>581</td>\n",
       "      <td>0.569707</td>\n",
       "      <td>1.014062</td>\n",
       "      <td>0.0</td>\n",
       "    </tr>\n",
       "    <tr>\n",
       "      <th>5</th>\n",
       "      <td>518</td>\n",
       "      <td>0.735521</td>\n",
       "      <td>1.169210</td>\n",
       "      <td>0.0</td>\n",
       "    </tr>\n",
       "    <tr>\n",
       "      <th>6</th>\n",
       "      <td>12</td>\n",
       "      <td>0.000000</td>\n",
       "      <td>0.000000</td>\n",
       "      <td>0.0</td>\n",
       "    </tr>\n",
       "  </tbody>\n",
       "</table>\n",
       "</div>"
      ],
      "text/plain": [
       "              count      mean       std  median\n",
       "season_label                                   \n",
       "0               156  0.108974  0.332609     0.0\n",
       "1               283  0.113074  0.328232     0.0\n",
       "2               441  0.365079  1.243366     0.0\n",
       "3               132  0.166667  0.655763     0.0\n",
       "4               581  0.569707  1.014062     0.0\n",
       "5               518  0.735521  1.169210     0.0\n",
       "6                12  0.000000  0.000000     0.0"
      ]
     },
     "metadata": {},
     "output_type": "display_data"
    }
   ],
   "source": [
    "\n",
    "# Hesitation by rat presence\n",
    "if {\"bat_landing_to_food\",\"rat_present\"}.issubset(df1_clean.columns):\n",
    "    grp_rat = df1_clean.groupby(\"rat_present\")[\"bat_landing_to_food\"].agg([\"count\",\"mean\",\"std\",\"median\"])\n",
    "    display(grp_rat)\n",
    "\n",
    "# Hesitation by season (dataset1)\n",
    "if {\"bat_landing_to_food\",\"season\"}.issubset(df1_clean.columns):\n",
    "    grp_season = df1_clean.groupby(\"season\")[\"bat_landing_to_food\"].agg([\"count\",\"mean\",\"std\",\"median\"])\n",
    "    display(grp_season)\n",
    "\n",
    "# Rat activity by season (dataset2)\n",
    "if {\"rat_arrival_number\",\"season_label\"}.issubset(df2_clean.columns):\n",
    "    grp_rat2 = df2_clean.groupby(\"season_label\")[\"rat_arrival_number\"].agg([\"count\",\"mean\",\"std\",\"median\"])\n",
    "    display(grp_rat2)\n"
   ]
  },
  {
   "cell_type": "markdown",
   "id": "e9160c54",
   "metadata": {},
   "source": [
    "\n",
    "**Story:** These tables show whether hesitation tends to increase when rats are present and whether seasonal shifts (winter→spring) affect either bat hesitation (dataset1) or rat arrivals (dataset2).\n"
   ]
  },
  {
   "cell_type": "markdown",
   "id": "91997a72",
   "metadata": {},
   "source": [
    "### Reward and Risk Summary Interpretation"
   ]
  },
  {
   "cell_type": "code",
   "execution_count": 94,
   "id": "53e766b2",
   "metadata": {},
   "outputs": [
    {
     "name": "stdout",
     "output_type": "stream",
     "text": [
      "\n",
      "Reward summary (Dataset1):\n"
     ]
    },
    {
     "data": {
      "text/html": [
       "<div>\n",
       "<style scoped>\n",
       "    .dataframe tbody tr th:only-of-type {\n",
       "        vertical-align: middle;\n",
       "    }\n",
       "\n",
       "    .dataframe tbody tr th {\n",
       "        vertical-align: top;\n",
       "    }\n",
       "\n",
       "    .dataframe thead th {\n",
       "        text-align: right;\n",
       "    }\n",
       "</style>\n",
       "<table border=\"1\" class=\"dataframe\">\n",
       "  <thead>\n",
       "    <tr style=\"text-align: right;\">\n",
       "      <th></th>\n",
       "      <th>count</th>\n",
       "      <th>mean</th>\n",
       "      <th>std</th>\n",
       "      <th>median</th>\n",
       "    </tr>\n",
       "    <tr>\n",
       "      <th>reward</th>\n",
       "      <th></th>\n",
       "      <th></th>\n",
       "      <th></th>\n",
       "      <th></th>\n",
       "    </tr>\n",
       "  </thead>\n",
       "  <tbody>\n",
       "    <tr>\n",
       "      <th>0</th>\n",
       "      <td>422</td>\n",
       "      <td>11.498228</td>\n",
       "      <td>22.288591</td>\n",
       "      <td>5.0</td>\n",
       "    </tr>\n",
       "    <tr>\n",
       "      <th>1</th>\n",
       "      <td>484</td>\n",
       "      <td>11.914381</td>\n",
       "      <td>31.627629</td>\n",
       "      <td>3.0</td>\n",
       "    </tr>\n",
       "  </tbody>\n",
       "</table>\n",
       "</div>"
      ],
      "text/plain": [
       "        count       mean        std  median\n",
       "reward                                     \n",
       "0         422  11.498228  22.288591     5.0\n",
       "1         484  11.914381  31.627629     3.0"
      ]
     },
     "metadata": {},
     "output_type": "display_data"
    },
    {
     "name": "stdout",
     "output_type": "stream",
     "text": [
      "Story: If reward is associated with faster approach times, we expect lower means in reward==1.\n",
      "\n",
      "Risk summary (Dataset1):\n"
     ]
    },
    {
     "data": {
      "text/html": [
       "<div>\n",
       "<style scoped>\n",
       "    .dataframe tbody tr th:only-of-type {\n",
       "        vertical-align: middle;\n",
       "    }\n",
       "\n",
       "    .dataframe tbody tr th {\n",
       "        vertical-align: top;\n",
       "    }\n",
       "\n",
       "    .dataframe thead th {\n",
       "        text-align: right;\n",
       "    }\n",
       "</style>\n",
       "<table border=\"1\" class=\"dataframe\">\n",
       "  <thead>\n",
       "    <tr style=\"text-align: right;\">\n",
       "      <th></th>\n",
       "      <th>count</th>\n",
       "      <th>mean</th>\n",
       "      <th>std</th>\n",
       "      <th>median</th>\n",
       "    </tr>\n",
       "    <tr>\n",
       "      <th>risk</th>\n",
       "      <th></th>\n",
       "      <th></th>\n",
       "      <th></th>\n",
       "      <th></th>\n",
       "    </tr>\n",
       "  </thead>\n",
       "  <tbody>\n",
       "    <tr>\n",
       "      <th>0</th>\n",
       "      <td>458</td>\n",
       "      <td>7.124469</td>\n",
       "      <td>20.524740</td>\n",
       "      <td>2.0</td>\n",
       "    </tr>\n",
       "    <tr>\n",
       "      <th>1</th>\n",
       "      <td>448</td>\n",
       "      <td>16.419209</td>\n",
       "      <td>32.777764</td>\n",
       "      <td>7.0</td>\n",
       "    </tr>\n",
       "  </tbody>\n",
       "</table>\n",
       "</div>"
      ],
      "text/plain": [
       "      count       mean        std  median\n",
       "risk                                     \n",
       "0       458   7.124469  20.524740     2.0\n",
       "1       448  16.419209  32.777764     7.0"
      ]
     },
     "metadata": {},
     "output_type": "display_data"
    },
    {
     "name": "stdout",
     "output_type": "stream",
     "text": [
      "Story: In higher risk conditions, bats might hesitate longer. If averages are higher, this supports risk perception.\n"
     ]
    }
   ],
   "source": [
    "if 'reward' in df1_clean.columns:\n",
    "    print('\\nReward summary (Dataset1):')\n",
    "    display(df1_clean.groupby('reward')['bat_landing_to_food'].agg(['count','mean','std','median']))\n",
    "    print('Story: If reward is associated with faster approach times, we expect lower means in reward==1.')\n",
    "\n",
    "if 'risk' in df1_clean.columns:\n",
    "    print('\\nRisk summary (Dataset1):')\n",
    "    display(df1_clean.groupby('risk')['bat_landing_to_food'].agg(['count','mean','std','median']))\n",
    "    print('Story: In higher risk conditions, bats might hesitate longer. If averages are higher, this supports risk perception.')"
   ]
  },
  {
   "cell_type": "markdown",
   "id": "d9f1d1d0",
   "metadata": {},
   "source": [
    "## Step 6 — Inferential Statistics"
   ]
  },
  {
   "cell_type": "markdown",
   "id": "0eb8a343",
   "metadata": {},
   "source": [
    "### Investigation A — Chi-square: `vigilance_high` × `rat_present` (dataset1)"
   ]
  },
  {
   "cell_type": "code",
   "execution_count": 76,
   "id": "b7efdd57",
   "metadata": {},
   "outputs": [
    {
     "data": {
      "text/html": [
       "<div>\n",
       "<style scoped>\n",
       "    .dataframe tbody tr th:only-of-type {\n",
       "        vertical-align: middle;\n",
       "    }\n",
       "\n",
       "    .dataframe tbody tr th {\n",
       "        vertical-align: top;\n",
       "    }\n",
       "\n",
       "    .dataframe thead th {\n",
       "        text-align: right;\n",
       "    }\n",
       "</style>\n",
       "<table border=\"1\" class=\"dataframe\">\n",
       "  <thead>\n",
       "    <tr style=\"text-align: right;\">\n",
       "      <th>rat_present</th>\n",
       "      <th>0</th>\n",
       "      <th>1</th>\n",
       "    </tr>\n",
       "    <tr>\n",
       "      <th>vigilance_high</th>\n",
       "      <th></th>\n",
       "      <th></th>\n",
       "    </tr>\n",
       "  </thead>\n",
       "  <tbody>\n",
       "    <tr>\n",
       "      <th>0</th>\n",
       "      <td>3</td>\n",
       "      <td>490</td>\n",
       "    </tr>\n",
       "    <tr>\n",
       "      <th>1</th>\n",
       "      <td>3</td>\n",
       "      <td>410</td>\n",
       "    </tr>\n",
       "  </tbody>\n",
       "</table>\n",
       "</div>"
      ],
      "text/plain": [
       "rat_present     0    1\n",
       "vigilance_high        \n",
       "0               3  490\n",
       "1               3  410"
      ]
     },
     "metadata": {},
     "output_type": "display_data"
    },
    {
     "name": "stdout",
     "output_type": "stream",
     "text": [
      "Chi-square: 0.0  df: 1  p-value: 1.0\n"
     ]
    }
   ],
   "source": [
    "\n",
    "# Build contingency table\n",
    "if {\"vigilance_high\",\"rat_present\"}.issubset(df1_clean.columns):\n",
    "    ct = pd.crosstab(df1_clean[\"vigilance_high\"], df1_clean[\"rat_present\"])\n",
    "    display(ct)\n",
    "    if ct.shape[0] >= 2 and ct.shape[1] >= 2:\n",
    "        chi2, p, dof, expected = chi2_contingency(ct)\n",
    "        print(\"Chi-square:\", round(chi2, 3), \" df:\", dof, \" p-value:\", p)\n",
    "    else:\n",
    "        print(\"Contingency table does not have enough categories for Chi-square.\")\n",
    "else:\n",
    "    print(\"Required columns not available for Chi-square.\")\n"
   ]
  },
  {
   "cell_type": "markdown",
   "id": "798ac514",
   "metadata": {},
   "source": [
    " \n",
    "- If **p < 0.05**, there is evidence that vigilance is associated with rat presence (bats change high/low vigilance proportions when rats are present).  \n",
    "- If **p ≥ 0.05**, we do not detect a difference—consistent with competition rather than predator avoidance.\n",
    "\n",
    "No evidence that bats show higher vigilance when rats are present\n"
   ]
  },
  {
   "cell_type": "code",
   "execution_count": 77,
   "id": "9861b1a6",
   "metadata": {},
   "outputs": [
    {
     "name": "stdout",
     "output_type": "stream",
     "text": [
      "\n",
      "Mann-Whitney U (landing_to_food ~ rat_present): U=2967.000, p=0.675624\n",
      "Kruskal-Wallis (landing_to_food ~ rat_present): H=0.176, p=0.675050\n",
      "Welch t-test (landing_to_food ~ rat_present): t=0.349, p=0.740836\n"
     ]
    }
   ],
   "source": [
    "infer_results = []\n",
    "if {\"bat_landing_to_food\", \"rat_present\"}.issubset(df1_clean.columns):\n",
    "    g0 = df1_clean.loc[df1_clean[\"rat_present\"]==0, \"bat_landing_to_food\"].dropna()\n",
    "    g1 = df1_clean.loc[df1_clean[\"rat_present\"]==1, \"bat_landing_to_food\"].dropna()\n",
    "    if len(g0)>0 and len(g1)>0:\n",
    "        U, p_u = mannwhitneyu(g0, g1, alternative=\"two-sided\")\n",
    "        H, p_h = kruskal(g0, g1)\n",
    "        t_stat, p_t = ttest_ind(g0, g1, equal_var=False)\n",
    "        infer_results.extend([\n",
    "            {\"investigation\":\"A\",\"test\":\"Mann-Whitney U (landing_to_food ~ rat_present)\",\"statistic\":U,\"p_value\":p_u,\"df\":None,\"n\":int(len(g0)+len(g1))},\n",
    "            {\"investigation\":\"A\",\"test\":\"Kruskal-Wallis (landing_to_food ~ rat_present)\",\"statistic\":H,\"p_value\":p_h,\"df\":1,\"n\":int(len(g0)+len(g1))},\n",
    "            {\"investigation\":\"A\",\"test\":\"Welch t-test (landing_to_food ~ rat_present)\",\"statistic\":t_stat,\"p_value\":p_t,\"df\":\"Welch\",\"n\":int(len(g0)+len(g1))}\n",
    "        ])\n",
    "        print(\"\\nMann-Whitney U (landing_to_food ~ rat_present): U=%.3f, p=%.6f\" % (U, p_u))\n",
    "        print(\"Kruskal-Wallis (landing_to_food ~ rat_present): H=%.3f, p=%.6f\" % (H, p_h))\n",
    "        print(\"Welch t-test (landing_to_food ~ rat_present): t=%.3f, p=%.6f\" % (t_stat, p_t))"
   ]
  },
  {
   "cell_type": "markdown",
   "id": "460b8a4b",
   "metadata": {},
   "source": [
    "## Additional checks from rats side dataset2"
   ]
  },
  {
   "cell_type": "code",
   "execution_count": 78,
   "id": "1bb468a0",
   "metadata": {},
   "outputs": [
    {
     "name": "stdout",
     "output_type": "stream",
     "text": [
      "\n",
      "Chi-square test (rat_present ~ bat_present): chi2=10.869, df=1, p=0.000978\n",
      "\n",
      "Kruskal-Wallis test (rat_minutes ~ bat_present): H=20.347, p=0.000006\n"
     ]
    }
   ],
   "source": [
    "# Additional checks fromm rats side dataset2\n",
    "\n",
    "if \"rat_present\" in df2_clean.columns and \"bat_present\" in df2_clean.columns:\n",
    "    ct2 = pd.crosstab(df2_clean[\"bat_present\"], df2_clean[\"rat_present\"])\n",
    "    if ct2.shape == (2,2):\n",
    "        chi2, p, dof, exp = chi2_contingency(ct2)\n",
    "        print(f\"\\nChi-square test (rat_present ~ bat_present): chi2={chi2:.3f}, df={dof}, p={p:.6f}\")\n",
    "\n",
    "# B2: Do rat minutes differ with bats? (non-parametric continuous outcome)\n",
    "if \"rat_minutes\" in df2_clean.columns and \"bat_present\" in df2_clean.columns:\n",
    "    r0 = df2_clean.loc[df2_clean[\"bat_present\"]==0, \"rat_minutes\"].dropna()\n",
    "    r1 = df2_clean.loc[df2_clean[\"bat_present\"]==1, \"rat_minutes\"].dropna()\n",
    "    if len(r0)>0 and len(r1)>0:\n",
    "        H, p = kruskal(r0, r1)\n",
    "        print(f\"\\nKruskal-Wallis test (rat_minutes ~ bat_present): H={H:.3f}, p={p:.6f}\")"
   ]
  },
  {
   "cell_type": "markdown",
   "id": "f5daa440",
   "metadata": {},
   "source": [
    "When bats are present, rats are less present and spend less time on the platform:\n",
    "\n",
    "- `rat_present` vs `bat_present`: χ²=10.869, p≈0.001 (association). Significant association → rats' presence in intervals is associated with bat presence (fewer rats when bats are present or vice versa).\n",
    "\n",
    "- `rat_minutes` vs `bat_present`: H=20.347, p≈0.000006 (strong difference).\n",
    "\n",
    "### Interpretation: \n",
    "Rats reduce activity in the presence of bats. This is consistent with avoidance or displacement by a competitor (or perceiving bats as a threat). However, because bats didn’t show fear-like responses to rats, the pattern overall still fits competition more than a classic predator–prey relationship.\n"
   ]
  },
  {
   "cell_type": "markdown",
   "id": "d4be7f57",
   "metadata": {},
   "source": [
    "### Additional tests for reward and risk"
   ]
  },
  {
   "cell_type": "code",
   "execution_count": 79,
   "id": "3af49b19",
   "metadata": {},
   "outputs": [
    {
     "name": "stdout",
     "output_type": "stream",
     "text": [
      "Reward - Mann–Whitney U test: U = 108049.00, p = 0.130395\n",
      "Risk - Mann–Whitney U test: U = 67871.50, p = 0.000000\n"
     ]
    }
   ],
   "source": [
    "df_reward = df1_clean.dropna(subset=['bat_landing_to_food', 'reward'])\n",
    "df_risk = df1_clean.dropna(subset=['bat_landing_to_food', 'risk'])\n",
    "\n",
    "reward_0 = df_reward[df_reward['reward'] == 0]['bat_landing_to_food']\n",
    "reward_1 = df_reward[df_reward['reward'] == 1]['bat_landing_to_food']\n",
    "\n",
    "risk_0 = df_risk[df_risk['risk'] == 0]['bat_landing_to_food']\n",
    "risk_1 = df_risk[df_risk['risk'] == 1]['bat_landing_to_food']\n",
    "\n",
    "u_reward, p_reward = mannwhitneyu(reward_0, reward_1, alternative='two-sided')\n",
    "print(f\"Reward - Mann–Whitney U test: U = {u_reward:.2f}, p = {p_reward:.6f}\")\n",
    "\n",
    "u_risk, p_risk = mannwhitneyu(risk_0, risk_1, alternative='two-sided')\n",
    "print(f\"Risk - Mann–Whitney U test: U = {u_risk:.2f}, p = {p_risk:.6f}\")\n"
   ]
  },
  {
   "cell_type": "markdown",
   "id": "e101dbf3",
   "metadata": {},
   "source": [
    "Reward Condition\n",
    "→ No statistically significant difference in hesitation time between rewarded and non-rewarded conditions.\n",
    "\n",
    "Risk Condition\n",
    "→ A statistically significant increase in hesitation time under high-risk conditions.\n",
    "\n",
    "#### Intrepretation\n",
    "There was no significant difference in hesitation time between rewarded and non-rewarded conditions. In contrast, bats exhibited significantly longer hesitation times in high-risk conditions compared to low-risk conditions, This supports the hypothesis that perceived risk leads to increased hesitation before approaching food"
   ]
  },
  {
   "cell_type": "markdown",
   "id": "43a0ccfc",
   "metadata": {},
   "source": [
    "### Test without outlier"
   ]
  },
  {
   "cell_type": "code",
   "execution_count": 80,
   "id": "ca728c1e",
   "metadata": {},
   "outputs": [],
   "source": [
    "def chi_square_test(df, label):\n",
    "    ct = pd.crosstab(df[\"vigilance_high\"], df[\"rat_present\"])\n",
    "    print(f\"\\nChi-square test ({label}):\")\n",
    "    print(ct)\n",
    "    if ct.shape[0] >= 2 and ct.shape[1] >= 2:\n",
    "        chi2, p, dof, exp = chi2_contingency(ct)\n",
    "        print(f\"Chi2={chi2:.3f}, df={dof}, p={p:.6f}\")\n",
    "    else:\n",
    "        print(\"Not enough categories for Chi-square.\")"
   ]
  },
  {
   "cell_type": "code",
   "execution_count": 81,
   "id": "f8a96eaa",
   "metadata": {},
   "outputs": [],
   "source": [
    "def iqr_filter(df, col):\n",
    "    q1 = df[col].quantile(0.25)\n",
    "    q3 = df[col].quantile(0.75)\n",
    "    iqr = q3 - q1\n",
    "    lo, hi = q1 - 1.5*iqr, q3 + 1.5*iqr\n",
    "    return df[(df[col] >= lo) & (df[col] <= hi)]\n",
    "\n",
    "df1_with = df1_clean.dropna(subset=[\"bat_landing_to_food\"])\n",
    "df1_without = iqr_filter(df1_with, \"bat_landing_to_food\")"
   ]
  },
  {
   "cell_type": "code",
   "execution_count": 82,
   "id": "e31dcdb6",
   "metadata": {},
   "outputs": [
    {
     "name": "stdout",
     "output_type": "stream",
     "text": [
      "\n",
      "Chi-square test (with outliers):\n",
      "rat_present     0    1\n",
      "vigilance_high        \n",
      "0               3  490\n",
      "1               3  410\n",
      "Chi2=0.000, df=1, p=1.000000\n",
      "\n",
      "Chi-square test (without outliers):\n",
      "rat_present     0    1\n",
      "vigilance_high        \n",
      "0               3  490\n",
      "1               1  324\n",
      "Chi2=0.008, df=1, p=0.927167\n"
     ]
    }
   ],
   "source": [
    "chi_square_test(df1_with, \"with outliers\")\n",
    "chi_square_test(df1_without, \"without outliers\")"
   ]
  },
  {
   "cell_type": "markdown",
   "id": "a77a94ec",
   "metadata": {},
   "source": [
    "#### Interpretation:\n",
    "\n",
    "In both cases, the p-values are very high (>> 0.05). This means there is no statistically significant relationship. After cleaning, the test still suggests that bats do not strongly increase their vigilance simply because rats are present. Their hesitation to forage is not statistically explained by rat presence alone. If rats were true predators, we would expect a clear positive association: more vigilance whenever rats are present. But since both with/without outliers the result is non-significant, it implies bats are not systematically avoiding food because of rat presence. This supports the hypothesis that rats are food competitors, not predators, in this semi-natural setting."
   ]
  }
 ],
 "metadata": {
  "kernelspec": {
   "display_name": "env",
   "language": "python",
   "name": "python3"
  },
  "language_info": {
   "codemirror_mode": {
    "name": "ipython",
    "version": 3
   },
   "file_extension": ".py",
   "mimetype": "text/x-python",
   "name": "python",
   "nbconvert_exporter": "python",
   "pygments_lexer": "ipython3",
   "version": "3.12.4"
  }
 },
 "nbformat": 4,
 "nbformat_minor": 5
}
